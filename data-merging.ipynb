{
 "cells": [
  {
   "cell_type": "markdown",
   "metadata": {},
   "source": [
    "#### Data Merging"
   ]
  },
  {
   "cell_type": "code",
   "execution_count": 1,
   "metadata": {},
   "outputs": [],
   "source": [
    "import pandas as pd\n",
    "import numpy as np"
   ]
  },
  {
   "cell_type": "code",
   "execution_count": 5,
   "metadata": {},
   "outputs": [],
   "source": [
    "#import the datasets.\n",
    "#data1: 2015 - 2020, data2: 2011 - 2015 \n",
    "data1 = pd.read_csv('data1.csv')\n",
    "data2 = pd.read_csv('data2.csv')\n",
    "climate = pd.read_csv('climate.csv')"
   ]
  },
  {
   "cell_type": "code",
   "execution_count": 6,
   "metadata": {},
   "outputs": [
    {
     "data": {
      "text/plain": [
       "((43801, 15), (38005, 15))"
      ]
     },
     "execution_count": 6,
     "metadata": {},
     "output_type": "execute_result"
    }
   ],
   "source": [
    "data2.shape,data1.shape"
   ]
  },
  {
   "cell_type": "code",
   "execution_count": 7,
   "metadata": {},
   "outputs": [],
   "source": [
    "data12 = pd.concat([data2,data1])\n",
    "data12.drop(['wind_direction','wind_spd','temp'],axis=1,inplace=True)"
   ]
  },
  {
   "cell_type": "code",
   "execution_count": 8,
   "metadata": {},
   "outputs": [
    {
     "data": {
      "text/plain": [
       "((81816, 28), (81806, 12))"
      ]
     },
     "execution_count": 8,
     "metadata": {},
     "output_type": "execute_result"
    }
   ],
   "source": [
    "climate.shape,data12.shape"
   ]
  },
  {
   "cell_type": "code",
   "execution_count": 9,
   "metadata": {},
   "outputs": [
    {
     "data": {
      "text/html": [
       "<div>\n",
       "<style scoped>\n",
       "    .dataframe tbody tr th:only-of-type {\n",
       "        vertical-align: middle;\n",
       "    }\n",
       "\n",
       "    .dataframe tbody tr th {\n",
       "        vertical-align: top;\n",
       "    }\n",
       "\n",
       "    .dataframe thead th {\n",
       "        text-align: right;\n",
       "    }\n",
       "</style>\n",
       "<table border=\"1\" class=\"dataframe\">\n",
       "  <thead>\n",
       "    <tr style=\"text-align: right;\">\n",
       "      <th></th>\n",
       "      <th>latitude</th>\n",
       "      <th>longitude</th>\n",
       "      <th>date_utc</th>\n",
       "      <th>doy_utc</th>\n",
       "      <th>hour_utc</th>\n",
       "      <th>time_valid_lcl</th>\n",
       "      <th>offset_min</th>\n",
       "      <th>temp</th>\n",
       "      <th>wetBulb</th>\n",
       "      <th>dewPt</th>\n",
       "      <th>...</th>\n",
       "      <th>windSpd10m</th>\n",
       "      <th>windDir10m</th>\n",
       "      <th>windSpd80m</th>\n",
       "      <th>windDir80m</th>\n",
       "      <th>windSpd100m</th>\n",
       "      <th>windDir100m</th>\n",
       "      <th>precip</th>\n",
       "      <th>snowfall</th>\n",
       "      <th>cldCvr</th>\n",
       "      <th>radSolar</th>\n",
       "    </tr>\n",
       "  </thead>\n",
       "  <tbody>\n",
       "    <tr>\n",
       "      <td>0</td>\n",
       "      <td>51.521</td>\n",
       "      <td>-0.2135</td>\n",
       "      <td>2011-01-01 00:00:00</td>\n",
       "      <td>1</td>\n",
       "      <td>0 days 00:00:00.000000000</td>\n",
       "      <td>1/1/2011 0:00</td>\n",
       "      <td>0</td>\n",
       "      <td>4.111111</td>\n",
       "      <td>3.833333</td>\n",
       "      <td>3.500000</td>\n",
       "      <td>...</td>\n",
       "      <td>5.3</td>\n",
       "      <td>286.0</td>\n",
       "      <td>7.4</td>\n",
       "      <td>289.1</td>\n",
       "      <td>7.7</td>\n",
       "      <td>289.8</td>\n",
       "      <td>0.0</td>\n",
       "      <td>0.0</td>\n",
       "      <td>99</td>\n",
       "      <td>0.0</td>\n",
       "    </tr>\n",
       "    <tr>\n",
       "      <td>1</td>\n",
       "      <td>51.521</td>\n",
       "      <td>-0.2135</td>\n",
       "      <td>2011-01-01 01:00:00</td>\n",
       "      <td>1</td>\n",
       "      <td>0 days 01:00:00.000000000</td>\n",
       "      <td>1/1/2011 1:00</td>\n",
       "      <td>0</td>\n",
       "      <td>4.611111</td>\n",
       "      <td>4.277778</td>\n",
       "      <td>3.833333</td>\n",
       "      <td>...</td>\n",
       "      <td>6.0</td>\n",
       "      <td>292.9</td>\n",
       "      <td>9.1</td>\n",
       "      <td>296.0</td>\n",
       "      <td>9.5</td>\n",
       "      <td>296.6</td>\n",
       "      <td>0.0</td>\n",
       "      <td>0.0</td>\n",
       "      <td>99</td>\n",
       "      <td>0.0</td>\n",
       "    </tr>\n",
       "    <tr>\n",
       "      <td>2</td>\n",
       "      <td>51.521</td>\n",
       "      <td>-0.2135</td>\n",
       "      <td>2011-01-01 02:00:00</td>\n",
       "      <td>1</td>\n",
       "      <td>0 days 02:00:00.000000000</td>\n",
       "      <td>1/1/2011 2:00</td>\n",
       "      <td>0</td>\n",
       "      <td>4.500000</td>\n",
       "      <td>4.055556</td>\n",
       "      <td>3.611111</td>\n",
       "      <td>...</td>\n",
       "      <td>7.0</td>\n",
       "      <td>285.4</td>\n",
       "      <td>10.4</td>\n",
       "      <td>289.0</td>\n",
       "      <td>10.9</td>\n",
       "      <td>290.0</td>\n",
       "      <td>0.0</td>\n",
       "      <td>0.0</td>\n",
       "      <td>98</td>\n",
       "      <td>0.0</td>\n",
       "    </tr>\n",
       "    <tr>\n",
       "      <td>3</td>\n",
       "      <td>51.521</td>\n",
       "      <td>-0.2135</td>\n",
       "      <td>2011-01-01 03:00:00</td>\n",
       "      <td>1</td>\n",
       "      <td>0 days 03:00:00.000000000</td>\n",
       "      <td>1/1/2011 3:00</td>\n",
       "      <td>0</td>\n",
       "      <td>4.333333</td>\n",
       "      <td>3.888889</td>\n",
       "      <td>3.333333</td>\n",
       "      <td>...</td>\n",
       "      <td>8.2</td>\n",
       "      <td>283.8</td>\n",
       "      <td>12.0</td>\n",
       "      <td>287.2</td>\n",
       "      <td>12.5</td>\n",
       "      <td>287.8</td>\n",
       "      <td>0.0</td>\n",
       "      <td>0.0</td>\n",
       "      <td>97</td>\n",
       "      <td>0.0</td>\n",
       "    </tr>\n",
       "    <tr>\n",
       "      <td>4</td>\n",
       "      <td>51.521</td>\n",
       "      <td>-0.2135</td>\n",
       "      <td>2011-01-01 04:00:00</td>\n",
       "      <td>1</td>\n",
       "      <td>0 days 04:00:00.000000000</td>\n",
       "      <td>1/1/2011 4:00</td>\n",
       "      <td>0</td>\n",
       "      <td>4.277778</td>\n",
       "      <td>3.777778</td>\n",
       "      <td>3.166667</td>\n",
       "      <td>...</td>\n",
       "      <td>9.0</td>\n",
       "      <td>286.4</td>\n",
       "      <td>13.1</td>\n",
       "      <td>290.1</td>\n",
       "      <td>13.7</td>\n",
       "      <td>290.7</td>\n",
       "      <td>0.0</td>\n",
       "      <td>0.0</td>\n",
       "      <td>97</td>\n",
       "      <td>0.0</td>\n",
       "    </tr>\n",
       "  </tbody>\n",
       "</table>\n",
       "<p>5 rows × 28 columns</p>\n",
       "</div>"
      ],
      "text/plain": [
       "   latitude  longitude             date_utc  doy_utc  \\\n",
       "0    51.521    -0.2135  2011-01-01 00:00:00        1   \n",
       "1    51.521    -0.2135  2011-01-01 01:00:00        1   \n",
       "2    51.521    -0.2135  2011-01-01 02:00:00        1   \n",
       "3    51.521    -0.2135  2011-01-01 03:00:00        1   \n",
       "4    51.521    -0.2135  2011-01-01 04:00:00        1   \n",
       "\n",
       "                    hour_utc time_valid_lcl  offset_min      temp   wetBulb  \\\n",
       "0  0 days 00:00:00.000000000  1/1/2011 0:00           0  4.111111  3.833333   \n",
       "1  0 days 01:00:00.000000000  1/1/2011 1:00           0  4.611111  4.277778   \n",
       "2  0 days 02:00:00.000000000  1/1/2011 2:00           0  4.500000  4.055556   \n",
       "3  0 days 03:00:00.000000000  1/1/2011 3:00           0  4.333333  3.888889   \n",
       "4  0 days 04:00:00.000000000  1/1/2011 4:00           0  4.277778  3.777778   \n",
       "\n",
       "      dewPt  ...  windSpd10m  windDir10m  windSpd80m  windDir80m  windSpd100m  \\\n",
       "0  3.500000  ...         5.3       286.0         7.4       289.1          7.7   \n",
       "1  3.833333  ...         6.0       292.9         9.1       296.0          9.5   \n",
       "2  3.611111  ...         7.0       285.4        10.4       289.0         10.9   \n",
       "3  3.333333  ...         8.2       283.8        12.0       287.2         12.5   \n",
       "4  3.166667  ...         9.0       286.4        13.1       290.1         13.7   \n",
       "\n",
       "   windDir100m  precip  snowfall  cldCvr  radSolar  \n",
       "0        289.8     0.0       0.0      99       0.0  \n",
       "1        296.6     0.0       0.0      99       0.0  \n",
       "2        290.0     0.0       0.0      98       0.0  \n",
       "3        287.8     0.0       0.0      97       0.0  \n",
       "4        290.7     0.0       0.0      97       0.0  \n",
       "\n",
       "[5 rows x 28 columns]"
      ]
     },
     "execution_count": 9,
     "metadata": {},
     "output_type": "execute_result"
    }
   ],
   "source": [
    "climate.head()"
   ]
  },
  {
   "cell_type": "code",
   "execution_count": 10,
   "metadata": {},
   "outputs": [],
   "source": [
    "climate = climate.iloc[1:81807,:]"
   ]
  },
  {
   "cell_type": "code",
   "execution_count": 11,
   "metadata": {},
   "outputs": [
    {
     "data": {
      "text/plain": [
       "((81806, 28), (81806, 12))"
      ]
     },
     "execution_count": 11,
     "metadata": {},
     "output_type": "execute_result"
    }
   ],
   "source": [
    "climate.shape,data12.shape"
   ]
  },
  {
   "cell_type": "code",
   "execution_count": 12,
   "metadata": {},
   "outputs": [],
   "source": [
    "climate.rename({'date_utc':'date_time'},axis=1,inplace=True)"
   ]
  },
  {
   "cell_type": "code",
   "execution_count": 13,
   "metadata": {},
   "outputs": [],
   "source": [
    "#-----------------#\n",
    "climate.date_time = pd.DatetimeIndex(climate.date_time)\n",
    "data12.date_time = pd.DatetimeIndex(data12.date_time)"
   ]
  },
  {
   "cell_type": "code",
   "execution_count": 14,
   "metadata": {
    "scrolled": true
   },
   "outputs": [
    {
     "name": "stdout",
     "output_type": "stream",
     "text": [
      "<class 'pandas.core.frame.DataFrame'>\n",
      "Int64Index: 81806 entries, 0 to 38004\n",
      "Data columns (total 12 columns):\n",
      "date            81806 non-null object\n",
      "time            81806 non-null object\n",
      "nitric_oxide    81806 non-null float64\n",
      "PM10            81806 non-null float64\n",
      "PM2.5           81806 non-null float64\n",
      "date_time       81806 non-null datetime64[ns]\n",
      "average_PM      81806 non-null float64\n",
      "year            81806 non-null int64\n",
      "month           81806 non-null int64\n",
      "day             81806 non-null int64\n",
      "season          81806 non-null object\n",
      "day_of_week     81806 non-null object\n",
      "dtypes: datetime64[ns](1), float64(4), int64(3), object(4)\n",
      "memory usage: 8.1+ MB\n"
     ]
    }
   ],
   "source": [
    "data12.info()"
   ]
  },
  {
   "cell_type": "code",
   "execution_count": 15,
   "metadata": {},
   "outputs": [],
   "source": [
    "#pd.concat([climate,data12],axis=1,).index\n",
    "data = pd.concat([climate.set_index('date_time'),data12.set_index('date_time')], axis=1, join='inner').reset_index()"
   ]
  },
  {
   "cell_type": "code",
   "execution_count": 16,
   "metadata": {},
   "outputs": [],
   "source": [
    "def conv_dir(deg):\n",
    "    bound = 45/2\n",
    "    if deg <=360 and deg>360-bound:\n",
    "        return 'north'\n",
    "    elif deg<=360-bound and deg>360-(2*bound):\n",
    "        return 'north-west'\n",
    "    elif deg <=270 and deg>270-bound:\n",
    "        return 'west'\n",
    "    elif deg <=270-bound and deg>270-(2*bound):\n",
    "        return 'south-west'\n",
    "    elif deg  <=180 and deg>180-bound:\n",
    "        return 'south'\n",
    "    elif deg<=180-bound and deg>180-(2*bound):\n",
    "        return 'south-east'\n",
    "    elif deg <=90 and deg>90-bound:\n",
    "            return 'east'\n",
    "    elif deg <=90-bound and deg>90-(2*bound):\n",
    "            return 'north-east'\n",
    "    else:\n",
    "        return 'none'\n",
    "\n",
    "data['wind_dir'] = data.windDir10m.map(conv_dir)    "
   ]
  },
  {
   "cell_type": "code",
   "execution_count": 17,
   "metadata": {},
   "outputs": [
    {
     "data": {
      "text/plain": [
       "Index(['date_time', 'latitude', 'longitude', 'doy_utc', 'hour_utc',\n",
       "       'time_valid_lcl', 'offset_min', 'temp', 'wetBulb', 'dewPt', 'feelsLike',\n",
       "       'windchill', 'heatind', 'relHum', 'specHum', 'Pres', 'Pres_tndncy',\n",
       "       'mslPres', 'windSpd10m', 'windDir10m', 'windSpd80m', 'windDir80m',\n",
       "       'windSpd100m', 'windDir100m', 'precip', 'snowfall', 'cldCvr',\n",
       "       'radSolar', 'date', 'time', 'nitric_oxide', 'PM10', 'PM2.5',\n",
       "       'average_PM', 'year', 'month', 'day', 'season', 'day_of_week',\n",
       "       'wind_dir'],\n",
       "      dtype='object')"
      ]
     },
     "execution_count": 17,
     "metadata": {},
     "output_type": "execute_result"
    }
   ],
   "source": [
    "data.columns"
   ]
  },
  {
   "cell_type": "code",
   "execution_count": 19,
   "metadata": {},
   "outputs": [],
   "source": [
    "data.to_csv('data.csv',index=False)#final dataframe."
   ]
  }
 ],
 "metadata": {
  "kernelspec": {
   "display_name": "Python 3",
   "language": "python",
   "name": "python3"
  },
  "language_info": {
   "codemirror_mode": {
    "name": "ipython",
    "version": 3
   },
   "file_extension": ".py",
   "mimetype": "text/x-python",
   "name": "python",
   "nbconvert_exporter": "python",
   "pygments_lexer": "ipython3",
   "version": "3.7.4"
  }
 },
 "nbformat": 4,
 "nbformat_minor": 2
}
