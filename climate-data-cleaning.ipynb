import pandas as pd
import numpy as np
import seaborn as sns
import matplotlib.pyplot as plt
import datetime
pd.set_option('display.max_columns', None)

![image.png](attachment:image.png)

climate = pd.read_csv('history-latlon-hour-global-20110101-20200510.csv')

climate.shape

climate.columns

climate.head()

mapper = {}
new_cols = ['latitude','longitude','date_utc','doy_utc','hour_utc','time_valid_lcl','offset_min','temp','wetBulb',
'dewPt','feelsLike','windchill','heatind','relHum','specHum',
'Pres','Pres_tndncy','mslPres','windSpd10m','windDir10m',
 'windSpd80m','windDir80m','windSpd100m','windDir100m',
 'precip','snowfall','cldCvr','radSolar']

len(climate.columns),len(new_cols)    

for old,new in list(zip(climate.columns,new_cols)):#shorthand way of changing column names
    mapper[old] = new
climate.rename(mapper,axis=1,inplace=True)    

climate.isnull().sum()#a few null values.

#### Replacing NaN values with previous value

climate.fillna(method='ffill',inplace=True)

climate.isnull().sum()

climate.hour_utc = pd.to_timedelta(climate.hour_utc,unit='h')
#climate[climate.date_utc != climate.time_valid_lcl]#local time is an hour ahead of universal time here.

climate.info()

Now we need to convert farenheit to degrees celcius.

def to_celcius(farenheit):
    return 5*(farenheit-32)/9

climate.temp = climate.temp.map(to_celcius)
climate.wetBulb = climate.wetBulb.map(to_celcius)
climate.feelsLike = climate.feelsLike.map(to_celcius)
climate.dewPt = climate.dewPt.map(to_celcius)
climate.windchill = climate.windchill.map(to_celcius)
climate.heatind = climate.heatind.map(to_celcius)

climate.date_utc = pd.DatetimeIndex(climate.date_utc)

(climate.date_utc < datetime.date(2020,5,9)).sum()

climate_sub = climate[climate.date_utc < datetime.date(2020,5,2)]

climate_sub.shape

climate_sub.head()

climate.offset_min.value_counts()

##exporting climate_sub as a dataframe
climate_sub.to_csv('climate.csv',index=False)
