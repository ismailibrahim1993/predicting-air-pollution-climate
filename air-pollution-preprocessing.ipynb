{
 "cells": [
  {
   "cell_type": "markdown",
   "metadata": {},
   "source": [
    "**Null hypothesis**: Concentrations of PM particles *and* NO is controlled by the weather and therefore by chance.<br>\n",
    "**alternative hypothesis:** Concentrations of PM particles *and* NO due to a controlled/sustained act to reduce release of air pollutants."
   ]
  },
  {
   "cell_type": "markdown",
   "metadata": {},
   "source": [
    "#### Air quality guideline. \n",
    "Air quality guideline is an annual mean concentration guideline for particulate matter from the World Health Organization. The guideline stipulates that **PM2.5 not exceed 25 μg/m³ annual mean, or 25 μg/m³ 24-hour mean**; and that **for PM10 its 50 µg/m3 that cannot be exceeded more than 35 times a year, 24-hour mean** For NO particles this limit is **30 μg/m³ annual mean**"
   ]
  },
  {
   "cell_type": "code",
   "execution_count": 4,
   "metadata": {},
   "outputs": [],
   "source": [
    "import pandas as pd\n",
    "import numpy as np"
   ]
  },
  {
   "cell_type": "code",
   "execution_count": 2,
   "metadata": {},
   "outputs": [],
   "source": [
    "df = pd.read_csv('21107225236.csv')\n",
    "df_1 = pd.read_csv('2120629429.csv')\n",
    "climate = pd.read_csv('climate.csv')#already cleaned."
   ]
  },
  {
   "cell_type": "markdown",
   "metadata": {},
   "source": [
    "Proceed to clean first two and then join on date_time."
   ]
  },
  {
   "cell_type": "code",
   "execution_count": 19,
   "metadata": {},
   "outputs": [],
   "source": [
    "df.columns = [name.lower().replace(' ','_') for name in df.columns]"
   ]
  },
  {
   "cell_type": "code",
   "execution_count": 20,
   "metadata": {},
   "outputs": [],
   "source": [
    "rename = {'pm10_particulate_matter_(hourly_measured)':'PM10',\n",
    "          'pm2.5_particulate_matter_(hourly_measured)':'PM2.5',\n",
    "          'modelled_wind_direction':'wind_direction',\n",
    "          'modelled_wind_speed':'wind_spd','modelled_temperature':'temp'}\n",
    "df.rename(rename,axis=1,inplace=True)\n",
    "df_1.columns = df.columns"
   ]
  },
  {
   "cell_type": "code",
   "execution_count": 21,
   "metadata": {},
   "outputs": [],
   "source": [
    "df.drop(['status','status.1','status.2','status.3','status.4','status.5'],axis=1,inplace=True)\n",
    "df_1.drop(['status','status.1','status.2','status.3','status.4','status.5'],axis=1,inplace=True)"
   ]
  },
  {
   "cell_type": "code",
   "execution_count": 22,
   "metadata": {},
   "outputs": [],
   "source": [
    "df.sort_values('date',inplace=True)\n",
    "df_1.sort_values('date',inplace=True)"
   ]
  },
  {
   "cell_type": "code",
   "execution_count": 23,
   "metadata": {},
   "outputs": [
    {
     "name": "stdout",
     "output_type": "stream",
     "text": [
      "<class 'pandas.core.frame.DataFrame'>\n",
      "Int64Index: 38006 entries, 0 to 38005\n",
      "Data columns (total 8 columns):\n",
      "date              38006 non-null object\n",
      "time              38005 non-null object\n",
      "nitric_oxide      38005 non-null object\n",
      "PM10              38005 non-null object\n",
      "PM2.5             38005 non-null object\n",
      "wind_direction    38005 non-null object\n",
      "wind_spd          38005 non-null object\n",
      "temp              38005 non-null object\n",
      "dtypes: object(8)\n",
      "memory usage: 2.6+ MB\n"
     ]
    }
   ],
   "source": [
    "df.info()"
   ]
  },
  {
   "cell_type": "code",
   "execution_count": 24,
   "metadata": {},
   "outputs": [
    {
     "data": {
      "text/html": [
       "<div>\n",
       "<style scoped>\n",
       "    .dataframe tbody tr th:only-of-type {\n",
       "        vertical-align: middle;\n",
       "    }\n",
       "\n",
       "    .dataframe tbody tr th {\n",
       "        vertical-align: top;\n",
       "    }\n",
       "\n",
       "    .dataframe thead th {\n",
       "        text-align: right;\n",
       "    }\n",
       "</style>\n",
       "<table border=\"1\" class=\"dataframe\">\n",
       "  <thead>\n",
       "    <tr style=\"text-align: right;\">\n",
       "      <th></th>\n",
       "      <th>date</th>\n",
       "      <th>time</th>\n",
       "      <th>nitric_oxide</th>\n",
       "      <th>PM10</th>\n",
       "      <th>PM2.5</th>\n",
       "      <th>wind_direction</th>\n",
       "      <th>wind_spd</th>\n",
       "      <th>temp</th>\n",
       "    </tr>\n",
       "  </thead>\n",
       "  <tbody>\n",
       "    <tr>\n",
       "      <td>0</td>\n",
       "      <td>2015-12-31</td>\n",
       "      <td>01:00:00</td>\n",
       "      <td>0.33345</td>\n",
       "      <td>11.3</td>\n",
       "      <td>0.9</td>\n",
       "      <td>223.4</td>\n",
       "      <td>4.4</td>\n",
       "      <td>9.1</td>\n",
       "    </tr>\n",
       "    <tr>\n",
       "      <td>23</td>\n",
       "      <td>2015-12-31</td>\n",
       "      <td>24:00:00</td>\n",
       "      <td>0.68009</td>\n",
       "      <td>17.6</td>\n",
       "      <td>11.1</td>\n",
       "      <td>233.5</td>\n",
       "      <td>1.6</td>\n",
       "      <td>4.1</td>\n",
       "    </tr>\n",
       "    <tr>\n",
       "      <td>22</td>\n",
       "      <td>2015-12-31</td>\n",
       "      <td>23:00:00</td>\n",
       "      <td>0.82291</td>\n",
       "      <td>15.3</td>\n",
       "      <td>7.3</td>\n",
       "      <td>257</td>\n",
       "      <td>3.1</td>\n",
       "      <td>5.4</td>\n",
       "    </tr>\n",
       "    <tr>\n",
       "      <td>21</td>\n",
       "      <td>2015-12-31</td>\n",
       "      <td>22:00:00</td>\n",
       "      <td>1.03744</td>\n",
       "      <td>17.2</td>\n",
       "      <td>7.4</td>\n",
       "      <td>257.7</td>\n",
       "      <td>3.9</td>\n",
       "      <td>6.3</td>\n",
       "    </tr>\n",
       "    <tr>\n",
       "      <td>20</td>\n",
       "      <td>2015-12-31</td>\n",
       "      <td>21:00:00</td>\n",
       "      <td>1.03744</td>\n",
       "      <td>16.9</td>\n",
       "      <td>7.8</td>\n",
       "      <td>254.7</td>\n",
       "      <td>4.3</td>\n",
       "      <td>7</td>\n",
       "    </tr>\n",
       "  </tbody>\n",
       "</table>\n",
       "</div>"
      ],
      "text/plain": [
       "          date      time nitric_oxide  PM10 PM2.5 wind_direction wind_spd temp\n",
       "0   2015-12-31  01:00:00      0.33345  11.3   0.9          223.4      4.4  9.1\n",
       "23  2015-12-31  24:00:00      0.68009  17.6  11.1          233.5      1.6  4.1\n",
       "22  2015-12-31  23:00:00      0.82291  15.3   7.3            257      3.1  5.4\n",
       "21  2015-12-31  22:00:00      1.03744  17.2   7.4          257.7      3.9  6.3\n",
       "20  2015-12-31  21:00:00      1.03744  16.9   7.8          254.7      4.3    7"
      ]
     },
     "execution_count": 24,
     "metadata": {},
     "output_type": "execute_result"
    }
   ],
   "source": [
    "df.head()"
   ]
  },
  {
   "cell_type": "code",
   "execution_count": 25,
   "metadata": {},
   "outputs": [],
   "source": [
    "df = df[df.date != 'End']#dropping the row containing 'End' date.\n",
    "df_1 = df_1[df_1.date != 'End']#dropping the row containing 'End' date."
   ]
  },
  {
   "cell_type": "code",
   "execution_count": 26,
   "metadata": {},
   "outputs": [
    {
     "data": {
      "text/plain": [
       "array(['01:00:00', '24:00:00', '23:00:00', '22:00:00', '21:00:00',\n",
       "       '20:00:00', '19:00:00', '17:00:00', '16:00:00', '15:00:00',\n",
       "       '14:00:00', '13:00:00', '18:00:00', '11:00:00', '12:00:00',\n",
       "       '03:00:00', '04:00:00', '05:00:00', '06:00:00', '02:00:00',\n",
       "       '08:00:00', '09:00:00', '10:00:00', '07:00:00'], dtype=object)"
      ]
     },
     "execution_count": 26,
     "metadata": {},
     "output_type": "execute_result"
    }
   ],
   "source": [
    "df['time'].unique()"
   ]
  },
  {
   "cell_type": "code",
   "execution_count": 27,
   "metadata": {},
   "outputs": [
    {
     "data": {
      "text/plain": [
       "date              0\n",
       "time              0\n",
       "nitric_oxide      0\n",
       "PM10              0\n",
       "PM2.5             0\n",
       "wind_direction    0\n",
       "wind_spd          0\n",
       "temp              0\n",
       "dtype: int64"
      ]
     },
     "execution_count": 27,
     "metadata": {},
     "output_type": "execute_result"
    }
   ],
   "source": [
    "#removing null values, no nulls.\n",
    "df.isnull().sum()"
   ]
  },
  {
   "cell_type": "code",
   "execution_count": 28,
   "metadata": {},
   "outputs": [
    {
     "name": "stdout",
     "output_type": "stream",
     "text": [
      "<class 'pandas.core.frame.DataFrame'>\n",
      "Int64Index: 38005 entries, 0 to 37997\n",
      "Data columns (total 8 columns):\n",
      "date              38005 non-null object\n",
      "time              38005 non-null object\n",
      "nitric_oxide      38005 non-null object\n",
      "PM10              38005 non-null object\n",
      "PM2.5             38005 non-null object\n",
      "wind_direction    38005 non-null object\n",
      "wind_spd          38005 non-null object\n",
      "temp              38005 non-null object\n",
      "dtypes: object(8)\n",
      "memory usage: 2.6+ MB\n"
     ]
    }
   ],
   "source": [
    "df.info()#fix date and time."
   ]
  },
  {
   "cell_type": "code",
   "execution_count": 29,
   "metadata": {
    "scrolled": true
   },
   "outputs": [
    {
     "data": {
      "text/plain": [
       "False    37680\n",
       "True       325\n",
       "Name: nitric_oxide, dtype: int64"
      ]
     },
     "execution_count": 29,
     "metadata": {},
     "output_type": "execute_result"
    }
   ],
   "source": [
    "(df == 'No data').PM10.value_counts()\n",
    "(df == 'No data').nitric_oxide.value_counts()"
   ]
  },
  {
   "cell_type": "markdown",
   "metadata": {},
   "source": [
    "That's it, 'No data' is in place for cells where no value was present. Removing rows totally where there is No data would also remove some important information as well. \n",
    "\n",
    "### Replace 'No data' with previous hours' observation"
   ]
  },
  {
   "cell_type": "code",
   "execution_count": 30,
   "metadata": {},
   "outputs": [],
   "source": [
    "df.nitric_oxide = df.nitric_oxide.map(lambda x: x if x!='No data' else np.nan)\n",
    "df.PM10 = df.PM10.map(lambda x: x if x!='No data' else np.nan)\n",
    "df['PM2.5'] = df['PM2.5'].map(lambda x: x if x!='No data' else np.nan)\n",
    "df.temp = df.nitric_oxide.map(lambda x: x if x!='No data' else np.nan)\n",
    "df.wind_spd = df.wind_spd.map(lambda x: x if x!='No data' else np.nan)\n",
    "df.wind_direction = df.wind_direction.map(lambda x: x if x!='No data' else np.nan)\n",
    "\n",
    "#--------------------------------------------#\n",
    "\n",
    "df_1.nitric_oxide = df_1.nitric_oxide.map(lambda x: x if x!='No data' else np.nan)\n",
    "df_1.PM10 = df_1.PM10.map(lambda x: x if x!='No data' else np.nan)\n",
    "df_1['PM2.5'] = df_1['PM2.5'].map(lambda x: x if x!='No data' else np.nan)\n",
    "df_1.temp = df_1.nitric_oxide.map(lambda x: x if x!='No data' else np.nan)\n",
    "df_1.wind_spd = df_1.wind_spd.map(lambda x: x if x!='No data' else np.nan)\n",
    "df_1.wind_direction = df_1.wind_direction.map(lambda x: x if x!='No data' else np.nan)\n"
   ]
  },
  {
   "cell_type": "code",
   "execution_count": 59,
   "metadata": {},
   "outputs": [],
   "source": [
    "df.fillna(method='ffill',inplace=True)\n",
    "df_1.fillna(method='ffill',inplace=True)"
   ]
  },
  {
   "cell_type": "code",
   "execution_count": 34,
   "metadata": {},
   "outputs": [
    {
     "data": {
      "text/plain": [
       "date                 0\n",
       "time                 0\n",
       "nitric_oxide       325\n",
       "PM10              2287\n",
       "PM2.5             1479\n",
       "wind_direction     877\n",
       "wind_spd           877\n",
       "temp               325\n",
       "dtype: int64"
      ]
     },
     "execution_count": 34,
     "metadata": {},
     "output_type": "execute_result"
    }
   ],
   "source": [
    "#df.isnull().sum()\n",
    "df1.isnull().sum()"
   ]
  },
  {
   "cell_type": "code",
   "execution_count": 60,
   "metadata": {},
   "outputs": [
    {
     "data": {
      "text/plain": [
       "date              0\n",
       "time              0\n",
       "nitric_oxide      0\n",
       "PM10              0\n",
       "PM2.5             0\n",
       "wind_direction    0\n",
       "wind_spd          0\n",
       "temp              0\n",
       "date_time         0\n",
       "dtype: int64"
      ]
     },
     "execution_count": 60,
     "metadata": {},
     "output_type": "execute_result"
    }
   ],
   "source": [
    "#(df == 'No data').sum()\n",
    "(df_1 == 'No data').sum()\n",
    "#####--------- all checks out. --------#####"
   ]
  },
  {
   "cell_type": "code",
   "execution_count": 41,
   "metadata": {},
   "outputs": [],
   "source": [
    "#adding date with hour to create date-time column\n",
    "df['date_time'] = pd.DatetimeIndex(df['date']) + pd.to_timedelta(df['time'],unit='h')\n",
    "df_1['date_time'] = pd.DatetimeIndex(df_1['date']) + pd.to_timedelta(df_1['time'],unit='h')"
   ]
  },
  {
   "cell_type": "code",
   "execution_count": 43,
   "metadata": {},
   "outputs": [],
   "source": [
    "df.sort_values(by='date_time',inplace=True)\n",
    "df_1.sort_values(by='date_time',inplace=True)"
   ]
  },
  {
   "cell_type": "code",
   "execution_count": 36,
   "metadata": {},
   "outputs": [
    {
     "data": {
      "text/plain": [
       "date              0\n",
       "time              0\n",
       "nitric_oxide      0\n",
       "PM10              0\n",
       "PM2.5             0\n",
       "wind_direction    0\n",
       "wind_spd          0\n",
       "temp              0\n",
       "dtype: int64"
      ]
     },
     "execution_count": 36,
     "metadata": {},
     "output_type": "execute_result"
    }
   ],
   "source": [
    "#(df == 'End').sum()\n",
    "(df_1 == 'End').sum()"
   ]
  },
  {
   "cell_type": "code",
   "execution_count": 63,
   "metadata": {},
   "outputs": [
    {
     "data": {
      "text/plain": [
       "date              0\n",
       "time              0\n",
       "nitric_oxide      0\n",
       "PM10              0\n",
       "PM2.5             0\n",
       "wind_direction    0\n",
       "wind_spd          0\n",
       "temp              0\n",
       "date_time         0\n",
       "dtype: int64"
      ]
     },
     "execution_count": 63,
     "metadata": {},
     "output_type": "execute_result"
    }
   ],
   "source": [
    "df.isnull().sum()\n",
    "#df_1.isnull().sum()"
   ]
  },
  {
   "cell_type": "code",
   "execution_count": 65,
   "metadata": {
    "scrolled": true
   },
   "outputs": [],
   "source": [
    "#converting object features into floats\n",
    "cols = ['nitric_oxide','PM10','PM2.5','wind_direction','wind_spd','temp']\n",
    "for col in cols:\n",
    "    df[col] = df[col].apply(lambda x: float(x))\n",
    "    df_1[col] = df_1[col].apply(lambda x: float(x))"
   ]
  },
  {
   "cell_type": "code",
   "execution_count": 66,
   "metadata": {
    "scrolled": true
   },
   "outputs": [
    {
     "name": "stdout",
     "output_type": "stream",
     "text": [
      "<class 'pandas.core.frame.DataFrame'>\n",
      "Int64Index: 38005 entries, 0 to 38004\n",
      "Data columns (total 9 columns):\n",
      "date              38005 non-null object\n",
      "time              38005 non-null object\n",
      "nitric_oxide      38005 non-null float64\n",
      "PM10              38005 non-null float64\n",
      "PM2.5             38005 non-null float64\n",
      "wind_direction    38005 non-null float64\n",
      "wind_spd          38005 non-null float64\n",
      "temp              38005 non-null float64\n",
      "date_time         38005 non-null datetime64[ns]\n",
      "dtypes: datetime64[ns](1), float64(6), object(2)\n",
      "memory usage: 2.9+ MB\n"
     ]
    }
   ],
   "source": [
    "df.info()\n",
    "#df_1.info()"
   ]
  },
  {
   "cell_type": "code",
   "execution_count": 1358,
   "metadata": {},
   "outputs": [
    {
     "data": {
      "text/html": [
       "<div>\n",
       "<style scoped>\n",
       "    .dataframe tbody tr th:only-of-type {\n",
       "        vertical-align: middle;\n",
       "    }\n",
       "\n",
       "    .dataframe tbody tr th {\n",
       "        vertical-align: top;\n",
       "    }\n",
       "\n",
       "    .dataframe thead th {\n",
       "        text-align: right;\n",
       "    }\n",
       "</style>\n",
       "<table border=\"1\" class=\"dataframe\">\n",
       "  <thead>\n",
       "    <tr style=\"text-align: right;\">\n",
       "      <th></th>\n",
       "      <th>date</th>\n",
       "      <th>time</th>\n",
       "      <th>nitric_oxide</th>\n",
       "      <th>PM10</th>\n",
       "      <th>PM2.5</th>\n",
       "      <th>wind_direction</th>\n",
       "      <th>wind_spd</th>\n",
       "      <th>temp</th>\n",
       "    </tr>\n",
       "  </thead>\n",
       "  <tbody>\n",
       "    <tr>\n",
       "      <td>0</td>\n",
       "      <td>2015-12-31</td>\n",
       "      <td>01:00:00</td>\n",
       "      <td>0.33345</td>\n",
       "      <td>11.3</td>\n",
       "      <td>0.9</td>\n",
       "      <td>223.4</td>\n",
       "      <td>4.4</td>\n",
       "      <td>0.33345</td>\n",
       "    </tr>\n",
       "    <tr>\n",
       "      <td>23</td>\n",
       "      <td>2015-12-31</td>\n",
       "      <td>24:00:00</td>\n",
       "      <td>0.68009</td>\n",
       "      <td>17.6</td>\n",
       "      <td>11.1</td>\n",
       "      <td>233.5</td>\n",
       "      <td>1.6</td>\n",
       "      <td>0.68009</td>\n",
       "    </tr>\n",
       "    <tr>\n",
       "      <td>22</td>\n",
       "      <td>2015-12-31</td>\n",
       "      <td>23:00:00</td>\n",
       "      <td>0.82291</td>\n",
       "      <td>15.3</td>\n",
       "      <td>7.3</td>\n",
       "      <td>257.0</td>\n",
       "      <td>3.1</td>\n",
       "      <td>0.82291</td>\n",
       "    </tr>\n",
       "    <tr>\n",
       "      <td>21</td>\n",
       "      <td>2015-12-31</td>\n",
       "      <td>22:00:00</td>\n",
       "      <td>1.03744</td>\n",
       "      <td>17.2</td>\n",
       "      <td>7.4</td>\n",
       "      <td>257.7</td>\n",
       "      <td>3.9</td>\n",
       "      <td>1.03744</td>\n",
       "    </tr>\n",
       "    <tr>\n",
       "      <td>20</td>\n",
       "      <td>2015-12-31</td>\n",
       "      <td>21:00:00</td>\n",
       "      <td>1.03744</td>\n",
       "      <td>16.9</td>\n",
       "      <td>7.8</td>\n",
       "      <td>254.7</td>\n",
       "      <td>4.3</td>\n",
       "      <td>1.03744</td>\n",
       "    </tr>\n",
       "    <tr>\n",
       "      <td>19</td>\n",
       "      <td>2015-12-31</td>\n",
       "      <td>20:00:00</td>\n",
       "      <td>0.78705</td>\n",
       "      <td>13.4</td>\n",
       "      <td>5.8</td>\n",
       "      <td>254.8</td>\n",
       "      <td>4.6</td>\n",
       "      <td>0.78705</td>\n",
       "    </tr>\n",
       "    <tr>\n",
       "      <td>18</td>\n",
       "      <td>2015-12-31</td>\n",
       "      <td>19:00:00</td>\n",
       "      <td>0.85845</td>\n",
       "      <td>10.2</td>\n",
       "      <td>1.5</td>\n",
       "      <td>236.3</td>\n",
       "      <td>6.2</td>\n",
       "      <td>0.85845</td>\n",
       "    </tr>\n",
       "    <tr>\n",
       "      <td>16</td>\n",
       "      <td>2015-12-31</td>\n",
       "      <td>17:00:00</td>\n",
       "      <td>0.85877</td>\n",
       "      <td>21.2</td>\n",
       "      <td>2.5</td>\n",
       "      <td>205.6</td>\n",
       "      <td>6.0</td>\n",
       "      <td>0.85877</td>\n",
       "    </tr>\n",
       "    <tr>\n",
       "      <td>15</td>\n",
       "      <td>2015-12-31</td>\n",
       "      <td>16:00:00</td>\n",
       "      <td>1.21612</td>\n",
       "      <td>20.2</td>\n",
       "      <td>7.4</td>\n",
       "      <td>200.3</td>\n",
       "      <td>5.1</td>\n",
       "      <td>1.21612</td>\n",
       "    </tr>\n",
       "    <tr>\n",
       "      <td>14</td>\n",
       "      <td>2015-12-31</td>\n",
       "      <td>15:00:00</td>\n",
       "      <td>1.78832</td>\n",
       "      <td>21.2</td>\n",
       "      <td>8.6</td>\n",
       "      <td>205.5</td>\n",
       "      <td>4.9</td>\n",
       "      <td>1.78832</td>\n",
       "    </tr>\n",
       "  </tbody>\n",
       "</table>\n",
       "</div>"
      ],
      "text/plain": [
       "          date      time  nitric_oxide  PM10  PM2.5  wind_direction  wind_spd  \\\n",
       "0   2015-12-31  01:00:00       0.33345  11.3    0.9           223.4       4.4   \n",
       "23  2015-12-31  24:00:00       0.68009  17.6   11.1           233.5       1.6   \n",
       "22  2015-12-31  23:00:00       0.82291  15.3    7.3           257.0       3.1   \n",
       "21  2015-12-31  22:00:00       1.03744  17.2    7.4           257.7       3.9   \n",
       "20  2015-12-31  21:00:00       1.03744  16.9    7.8           254.7       4.3   \n",
       "19  2015-12-31  20:00:00       0.78705  13.4    5.8           254.8       4.6   \n",
       "18  2015-12-31  19:00:00       0.85845  10.2    1.5           236.3       6.2   \n",
       "16  2015-12-31  17:00:00       0.85877  21.2    2.5           205.6       6.0   \n",
       "15  2015-12-31  16:00:00       1.21612  20.2    7.4           200.3       5.1   \n",
       "14  2015-12-31  15:00:00       1.78832  21.2    8.6           205.5       4.9   \n",
       "\n",
       "       temp  \n",
       "0   0.33345  \n",
       "23  0.68009  \n",
       "22  0.82291  \n",
       "21  1.03744  \n",
       "20  1.03744  \n",
       "19  0.78705  \n",
       "18  0.85845  \n",
       "16  0.85877  \n",
       "15  1.21612  \n",
       "14  1.78832  "
      ]
     },
     "execution_count": 1358,
     "metadata": {},
     "output_type": "execute_result"
    }
   ],
   "source": [
    "df.head(10)"
   ]
  },
  {
   "cell_type": "markdown",
   "metadata": {},
   "source": [
    "#### Data Engineering"
   ]
  },
  {
   "cell_type": "code",
   "execution_count": 67,
   "metadata": {},
   "outputs": [],
   "source": [
    "def day_of_week(date):\n",
    "    days_of_week = {0: 'monday', 1: 'tuesday', 2: 'wednesday',\n",
    "                    3: 'thursday', 4: 'friday', 5: 'saturday', 6: 'sunday'}\n",
    "    return days_of_week[date.weekday()]\n",
    "\n",
    "def convert_to_season(month):\n",
    "    if month in [12,1,2]:\n",
    "        return 'winter'\n",
    "    elif month in [3,4,5]:\n",
    "        return 'spring'\n",
    "    elif month in [6,7,8]:\n",
    "        return 'summer'\n",
    "    elif month in [9,10,11]:\n",
    "        return 'autumn'\n",
    "    else:return 'not recognised'"
   ]
  },
  {
   "cell_type": "code",
   "execution_count": 68,
   "metadata": {},
   "outputs": [],
   "source": [
    "#Here I extract the sum of all the pollutants NO,PM2.5 & PM10.\n",
    "df['average_PM'] = (df['PM10'] + df['PM2.5'])*.5\n",
    "df_1['average_PM'] = (df_1['PM10'] + df_1['PM2.5'])*.5"
   ]
  },
  {
   "cell_type": "code",
   "execution_count": 69,
   "metadata": {},
   "outputs": [],
   "source": [
    "#Here I extract year,month and day from the date column\n",
    "df['year'] = df.date_time.map(lambda x: x.year)\n",
    "df['month'] = df.date_time.map(lambda x: x.month)\n",
    "df['day'] = df.date_time.map(lambda x: x.day)\n",
    "#------------------------------------------#\n",
    "df_1['year'] = df_1.date_time.map(lambda x: x.year)\n",
    "df_1['month'] = df_1.date_time.map(lambda x: x.month)\n",
    "df_1['day'] = df_1.date_time.map(lambda x: x.day)"
   ]
  },
  {
   "cell_type": "code",
   "execution_count": 70,
   "metadata": {},
   "outputs": [],
   "source": [
    "#Here I extract the season from the month and day of the week from the day.\n",
    "df['season'] = df.month.map(convert_to_season) \n",
    "df['day_of_week'] = df.date_time.map(day_of_week)\n",
    "#-------------------------------------------------------------#\n",
    "df_1['season'] = df_1.month.map(convert_to_season)\n",
    "df_1['day_of_week'] = df_1.date_time.map(day_of_week)"
   ]
  },
  {
   "cell_type": "code",
   "execution_count": 71,
   "metadata": {},
   "outputs": [
    {
     "data": {
      "text/plain": [
       "array([31,  1,  2,  3,  4,  5,  6,  7,  8,  9, 10, 11, 12, 13, 14, 15, 16,\n",
       "       17, 18, 19, 20, 21, 22, 23, 24, 25, 26, 27, 28, 29, 30])"
      ]
     },
     "execution_count": 71,
     "metadata": {},
     "output_type": "execute_result"
    }
   ],
   "source": [
    "df_1.day.unique()"
   ]
  },
  {
   "cell_type": "code",
   "execution_count": 72,
   "metadata": {},
   "outputs": [],
   "source": [
    "df = df[df.year > 2010]\n",
    "df_1 = df_1[df_1.year > 2010]"
   ]
  },
  {
   "cell_type": "code",
   "execution_count": 570,
   "metadata": {},
   "outputs": [
    {
     "data": {
      "text/plain": [
       "((8784, 15), (8784, 15), (8760, 15), (8760, 15), (8737, 15))"
      ]
     },
     "execution_count": 570,
     "metadata": {},
     "output_type": "execute_result"
    }
   ],
   "source": [
    "#2012 was leap year.\n",
    "df[df.year == 2016].shape,df_1[df_1.year == 2012].shape,df_1[df_1.year == 2014].shape,df_1[df_1.year == 2013].shape,df_1[df_1.year == 2015].shape"
   ]
  },
  {
   "cell_type": "code",
   "execution_count": 587,
   "metadata": {
    "scrolled": true
   },
   "outputs": [
    {
     "name": "stdout",
     "output_type": "stream",
     "text": [
      "combined df PM10  average 29 dec 2015:  18.065217391304348\n",
      "upper df PM10 average 30 dec 2015 18.099999999999998\n"
     ]
    }
   ],
   "source": [
    "print('combined df PM10  average 29 dec 2015: ',data[(data.index < '30/12/2015') & (data.index > '29/12/2015')]['PM10'].mean())\n",
    "print('upper df PM10 average 30 dec 2015',df_1[df_1.date == '2015-12-29']['PM10'].mean()) #REMOVED 1 row thats the disparity."
   ]
  },
  {
   "cell_type": "code",
   "execution_count": 557,
   "metadata": {},
   "outputs": [
    {
     "data": {
      "text/plain": [
       "False    73045\n",
       "True      8760\n",
       "Name: year, dtype: int64"
      ]
     },
     "execution_count": 557,
     "metadata": {},
     "output_type": "execute_result"
    }
   ],
   "source": [
    "(data.year == 2015).value_counts()"
   ]
  },
  {
   "cell_type": "code",
   "execution_count": 73,
   "metadata": {
    "scrolled": true
   },
   "outputs": [
    {
     "data": {
      "text/html": [
       "<div>\n",
       "<style scoped>\n",
       "    .dataframe tbody tr th:only-of-type {\n",
       "        vertical-align: middle;\n",
       "    }\n",
       "\n",
       "    .dataframe tbody tr th {\n",
       "        vertical-align: top;\n",
       "    }\n",
       "\n",
       "    .dataframe thead th {\n",
       "        text-align: right;\n",
       "    }\n",
       "</style>\n",
       "<table border=\"1\" class=\"dataframe\">\n",
       "  <thead>\n",
       "    <tr style=\"text-align: right;\">\n",
       "      <th></th>\n",
       "      <th>date</th>\n",
       "      <th>time</th>\n",
       "      <th>nitric_oxide</th>\n",
       "      <th>PM10</th>\n",
       "      <th>PM2.5</th>\n",
       "      <th>wind_direction</th>\n",
       "      <th>wind_spd</th>\n",
       "      <th>temp</th>\n",
       "      <th>date_time</th>\n",
       "      <th>average_PM</th>\n",
       "      <th>year</th>\n",
       "      <th>month</th>\n",
       "      <th>day</th>\n",
       "      <th>season</th>\n",
       "      <th>day_of_week</th>\n",
       "    </tr>\n",
       "  </thead>\n",
       "  <tbody>\n",
       "    <tr>\n",
       "      <td>23</td>\n",
       "      <td>2010-12-31</td>\n",
       "      <td>24:00:00</td>\n",
       "      <td>9.0</td>\n",
       "      <td>42.0</td>\n",
       "      <td>38.0</td>\n",
       "      <td>331.4</td>\n",
       "      <td>1.7</td>\n",
       "      <td>9.0</td>\n",
       "      <td>2011-01-01 00:00:00</td>\n",
       "      <td>40.0</td>\n",
       "      <td>2011</td>\n",
       "      <td>1</td>\n",
       "      <td>1</td>\n",
       "      <td>winter</td>\n",
       "      <td>saturday</td>\n",
       "    </tr>\n",
       "    <tr>\n",
       "      <td>24</td>\n",
       "      <td>2011-01-01</td>\n",
       "      <td>01:00:00</td>\n",
       "      <td>4.0</td>\n",
       "      <td>40.0</td>\n",
       "      <td>39.0</td>\n",
       "      <td>266.7</td>\n",
       "      <td>1.1</td>\n",
       "      <td>4.0</td>\n",
       "      <td>2011-01-01 01:00:00</td>\n",
       "      <td>39.5</td>\n",
       "      <td>2011</td>\n",
       "      <td>1</td>\n",
       "      <td>1</td>\n",
       "      <td>winter</td>\n",
       "      <td>saturday</td>\n",
       "    </tr>\n",
       "    <tr>\n",
       "      <td>25</td>\n",
       "      <td>2011-01-01</td>\n",
       "      <td>02:00:00</td>\n",
       "      <td>6.0</td>\n",
       "      <td>36.0</td>\n",
       "      <td>30.0</td>\n",
       "      <td>271.9</td>\n",
       "      <td>1.2</td>\n",
       "      <td>6.0</td>\n",
       "      <td>2011-01-01 02:00:00</td>\n",
       "      <td>33.0</td>\n",
       "      <td>2011</td>\n",
       "      <td>1</td>\n",
       "      <td>1</td>\n",
       "      <td>winter</td>\n",
       "      <td>saturday</td>\n",
       "    </tr>\n",
       "    <tr>\n",
       "      <td>26</td>\n",
       "      <td>2011-01-01</td>\n",
       "      <td>03:00:00</td>\n",
       "      <td>1.0</td>\n",
       "      <td>31.0</td>\n",
       "      <td>31.0</td>\n",
       "      <td>276.3</td>\n",
       "      <td>1.5</td>\n",
       "      <td>1.0</td>\n",
       "      <td>2011-01-01 03:00:00</td>\n",
       "      <td>31.0</td>\n",
       "      <td>2011</td>\n",
       "      <td>1</td>\n",
       "      <td>1</td>\n",
       "      <td>winter</td>\n",
       "      <td>saturday</td>\n",
       "    </tr>\n",
       "    <tr>\n",
       "      <td>27</td>\n",
       "      <td>2011-01-01</td>\n",
       "      <td>04:00:00</td>\n",
       "      <td>1.0</td>\n",
       "      <td>31.0</td>\n",
       "      <td>29.0</td>\n",
       "      <td>278.7</td>\n",
       "      <td>2.1</td>\n",
       "      <td>1.0</td>\n",
       "      <td>2011-01-01 04:00:00</td>\n",
       "      <td>30.0</td>\n",
       "      <td>2011</td>\n",
       "      <td>1</td>\n",
       "      <td>1</td>\n",
       "      <td>winter</td>\n",
       "      <td>saturday</td>\n",
       "    </tr>\n",
       "    <tr>\n",
       "      <td>28</td>\n",
       "      <td>2011-01-01</td>\n",
       "      <td>05:00:00</td>\n",
       "      <td>1.0</td>\n",
       "      <td>29.0</td>\n",
       "      <td>25.0</td>\n",
       "      <td>289.6</td>\n",
       "      <td>2.7</td>\n",
       "      <td>1.0</td>\n",
       "      <td>2011-01-01 05:00:00</td>\n",
       "      <td>27.0</td>\n",
       "      <td>2011</td>\n",
       "      <td>1</td>\n",
       "      <td>1</td>\n",
       "      <td>winter</td>\n",
       "      <td>saturday</td>\n",
       "    </tr>\n",
       "    <tr>\n",
       "      <td>29</td>\n",
       "      <td>2011-01-01</td>\n",
       "      <td>06:00:00</td>\n",
       "      <td>1.0</td>\n",
       "      <td>25.0</td>\n",
       "      <td>23.0</td>\n",
       "      <td>303.6</td>\n",
       "      <td>2.8</td>\n",
       "      <td>1.0</td>\n",
       "      <td>2011-01-01 06:00:00</td>\n",
       "      <td>24.0</td>\n",
       "      <td>2011</td>\n",
       "      <td>1</td>\n",
       "      <td>1</td>\n",
       "      <td>winter</td>\n",
       "      <td>saturday</td>\n",
       "    </tr>\n",
       "    <tr>\n",
       "      <td>30</td>\n",
       "      <td>2011-01-01</td>\n",
       "      <td>07:00:00</td>\n",
       "      <td>1.0</td>\n",
       "      <td>25.0</td>\n",
       "      <td>24.0</td>\n",
       "      <td>316.7</td>\n",
       "      <td>2.8</td>\n",
       "      <td>1.0</td>\n",
       "      <td>2011-01-01 07:00:00</td>\n",
       "      <td>24.5</td>\n",
       "      <td>2011</td>\n",
       "      <td>1</td>\n",
       "      <td>1</td>\n",
       "      <td>winter</td>\n",
       "      <td>saturday</td>\n",
       "    </tr>\n",
       "    <tr>\n",
       "      <td>31</td>\n",
       "      <td>2011-01-01</td>\n",
       "      <td>08:00:00</td>\n",
       "      <td>1.0</td>\n",
       "      <td>28.0</td>\n",
       "      <td>22.0</td>\n",
       "      <td>320.8</td>\n",
       "      <td>2.7</td>\n",
       "      <td>1.0</td>\n",
       "      <td>2011-01-01 08:00:00</td>\n",
       "      <td>25.0</td>\n",
       "      <td>2011</td>\n",
       "      <td>1</td>\n",
       "      <td>1</td>\n",
       "      <td>winter</td>\n",
       "      <td>saturday</td>\n",
       "    </tr>\n",
       "    <tr>\n",
       "      <td>32</td>\n",
       "      <td>2011-01-01</td>\n",
       "      <td>09:00:00</td>\n",
       "      <td>8.0</td>\n",
       "      <td>24.0</td>\n",
       "      <td>23.0</td>\n",
       "      <td>315.0</td>\n",
       "      <td>2.6</td>\n",
       "      <td>8.0</td>\n",
       "      <td>2011-01-01 09:00:00</td>\n",
       "      <td>23.5</td>\n",
       "      <td>2011</td>\n",
       "      <td>1</td>\n",
       "      <td>1</td>\n",
       "      <td>winter</td>\n",
       "      <td>saturday</td>\n",
       "    </tr>\n",
       "    <tr>\n",
       "      <td>33</td>\n",
       "      <td>2011-01-01</td>\n",
       "      <td>10:00:00</td>\n",
       "      <td>9.0</td>\n",
       "      <td>24.0</td>\n",
       "      <td>20.0</td>\n",
       "      <td>316.7</td>\n",
       "      <td>2.6</td>\n",
       "      <td>9.0</td>\n",
       "      <td>2011-01-01 10:00:00</td>\n",
       "      <td>22.0</td>\n",
       "      <td>2011</td>\n",
       "      <td>1</td>\n",
       "      <td>1</td>\n",
       "      <td>winter</td>\n",
       "      <td>saturday</td>\n",
       "    </tr>\n",
       "    <tr>\n",
       "      <td>34</td>\n",
       "      <td>2011-01-01</td>\n",
       "      <td>11:00:00</td>\n",
       "      <td>16.0</td>\n",
       "      <td>23.0</td>\n",
       "      <td>22.0</td>\n",
       "      <td>319.2</td>\n",
       "      <td>2.6</td>\n",
       "      <td>16.0</td>\n",
       "      <td>2011-01-01 11:00:00</td>\n",
       "      <td>22.5</td>\n",
       "      <td>2011</td>\n",
       "      <td>1</td>\n",
       "      <td>1</td>\n",
       "      <td>winter</td>\n",
       "      <td>saturday</td>\n",
       "    </tr>\n",
       "    <tr>\n",
       "      <td>35</td>\n",
       "      <td>2011-01-01</td>\n",
       "      <td>12:00:00</td>\n",
       "      <td>5.0</td>\n",
       "      <td>19.0</td>\n",
       "      <td>17.0</td>\n",
       "      <td>320.3</td>\n",
       "      <td>2.7</td>\n",
       "      <td>5.0</td>\n",
       "      <td>2011-01-01 12:00:00</td>\n",
       "      <td>18.0</td>\n",
       "      <td>2011</td>\n",
       "      <td>1</td>\n",
       "      <td>1</td>\n",
       "      <td>winter</td>\n",
       "      <td>saturday</td>\n",
       "    </tr>\n",
       "    <tr>\n",
       "      <td>36</td>\n",
       "      <td>2011-01-01</td>\n",
       "      <td>13:00:00</td>\n",
       "      <td>6.0</td>\n",
       "      <td>20.0</td>\n",
       "      <td>19.0</td>\n",
       "      <td>332.6</td>\n",
       "      <td>2.6</td>\n",
       "      <td>6.0</td>\n",
       "      <td>2011-01-01 13:00:00</td>\n",
       "      <td>19.5</td>\n",
       "      <td>2011</td>\n",
       "      <td>1</td>\n",
       "      <td>1</td>\n",
       "      <td>winter</td>\n",
       "      <td>saturday</td>\n",
       "    </tr>\n",
       "    <tr>\n",
       "      <td>37</td>\n",
       "      <td>2011-01-01</td>\n",
       "      <td>14:00:00</td>\n",
       "      <td>4.0</td>\n",
       "      <td>18.0</td>\n",
       "      <td>16.0</td>\n",
       "      <td>348.1</td>\n",
       "      <td>2.7</td>\n",
       "      <td>4.0</td>\n",
       "      <td>2011-01-01 14:00:00</td>\n",
       "      <td>17.0</td>\n",
       "      <td>2011</td>\n",
       "      <td>1</td>\n",
       "      <td>1</td>\n",
       "      <td>winter</td>\n",
       "      <td>saturday</td>\n",
       "    </tr>\n",
       "    <tr>\n",
       "      <td>38</td>\n",
       "      <td>2011-01-01</td>\n",
       "      <td>15:00:00</td>\n",
       "      <td>9.0</td>\n",
       "      <td>16.0</td>\n",
       "      <td>13.0</td>\n",
       "      <td>181.7</td>\n",
       "      <td>2.8</td>\n",
       "      <td>9.0</td>\n",
       "      <td>2011-01-01 15:00:00</td>\n",
       "      <td>14.5</td>\n",
       "      <td>2011</td>\n",
       "      <td>1</td>\n",
       "      <td>1</td>\n",
       "      <td>winter</td>\n",
       "      <td>saturday</td>\n",
       "    </tr>\n",
       "    <tr>\n",
       "      <td>39</td>\n",
       "      <td>2011-01-01</td>\n",
       "      <td>16:00:00</td>\n",
       "      <td>8.0</td>\n",
       "      <td>12.0</td>\n",
       "      <td>11.0</td>\n",
       "      <td>15.9</td>\n",
       "      <td>2.9</td>\n",
       "      <td>8.0</td>\n",
       "      <td>2011-01-01 16:00:00</td>\n",
       "      <td>11.5</td>\n",
       "      <td>2011</td>\n",
       "      <td>1</td>\n",
       "      <td>1</td>\n",
       "      <td>winter</td>\n",
       "      <td>saturday</td>\n",
       "    </tr>\n",
       "    <tr>\n",
       "      <td>40</td>\n",
       "      <td>2011-01-01</td>\n",
       "      <td>17:00:00</td>\n",
       "      <td>4.0</td>\n",
       "      <td>12.0</td>\n",
       "      <td>9.0</td>\n",
       "      <td>26.9</td>\n",
       "      <td>3.0</td>\n",
       "      <td>4.0</td>\n",
       "      <td>2011-01-01 17:00:00</td>\n",
       "      <td>10.5</td>\n",
       "      <td>2011</td>\n",
       "      <td>1</td>\n",
       "      <td>1</td>\n",
       "      <td>winter</td>\n",
       "      <td>saturday</td>\n",
       "    </tr>\n",
       "    <tr>\n",
       "      <td>41</td>\n",
       "      <td>2011-01-01</td>\n",
       "      <td>18:00:00</td>\n",
       "      <td>5.0</td>\n",
       "      <td>13.0</td>\n",
       "      <td>8.0</td>\n",
       "      <td>30.6</td>\n",
       "      <td>3.0</td>\n",
       "      <td>5.0</td>\n",
       "      <td>2011-01-01 18:00:00</td>\n",
       "      <td>10.5</td>\n",
       "      <td>2011</td>\n",
       "      <td>1</td>\n",
       "      <td>1</td>\n",
       "      <td>winter</td>\n",
       "      <td>saturday</td>\n",
       "    </tr>\n",
       "    <tr>\n",
       "      <td>42</td>\n",
       "      <td>2011-01-01</td>\n",
       "      <td>19:00:00</td>\n",
       "      <td>4.0</td>\n",
       "      <td>18.0</td>\n",
       "      <td>10.0</td>\n",
       "      <td>33.7</td>\n",
       "      <td>3.1</td>\n",
       "      <td>4.0</td>\n",
       "      <td>2011-01-01 19:00:00</td>\n",
       "      <td>14.0</td>\n",
       "      <td>2011</td>\n",
       "      <td>1</td>\n",
       "      <td>1</td>\n",
       "      <td>winter</td>\n",
       "      <td>saturday</td>\n",
       "    </tr>\n",
       "    <tr>\n",
       "      <td>43</td>\n",
       "      <td>2011-01-01</td>\n",
       "      <td>20:00:00</td>\n",
       "      <td>4.0</td>\n",
       "      <td>17.0</td>\n",
       "      <td>10.0</td>\n",
       "      <td>32.6</td>\n",
       "      <td>3.1</td>\n",
       "      <td>4.0</td>\n",
       "      <td>2011-01-01 20:00:00</td>\n",
       "      <td>13.5</td>\n",
       "      <td>2011</td>\n",
       "      <td>1</td>\n",
       "      <td>1</td>\n",
       "      <td>winter</td>\n",
       "      <td>saturday</td>\n",
       "    </tr>\n",
       "    <tr>\n",
       "      <td>44</td>\n",
       "      <td>2011-01-01</td>\n",
       "      <td>21:00:00</td>\n",
       "      <td>3.0</td>\n",
       "      <td>17.0</td>\n",
       "      <td>9.0</td>\n",
       "      <td>26.4</td>\n",
       "      <td>3.2</td>\n",
       "      <td>3.0</td>\n",
       "      <td>2011-01-01 21:00:00</td>\n",
       "      <td>13.0</td>\n",
       "      <td>2011</td>\n",
       "      <td>1</td>\n",
       "      <td>1</td>\n",
       "      <td>winter</td>\n",
       "      <td>saturday</td>\n",
       "    </tr>\n",
       "    <tr>\n",
       "      <td>45</td>\n",
       "      <td>2011-01-01</td>\n",
       "      <td>22:00:00</td>\n",
       "      <td>3.0</td>\n",
       "      <td>15.0</td>\n",
       "      <td>11.0</td>\n",
       "      <td>20.2</td>\n",
       "      <td>3.2</td>\n",
       "      <td>3.0</td>\n",
       "      <td>2011-01-01 22:00:00</td>\n",
       "      <td>13.0</td>\n",
       "      <td>2011</td>\n",
       "      <td>1</td>\n",
       "      <td>1</td>\n",
       "      <td>winter</td>\n",
       "      <td>saturday</td>\n",
       "    </tr>\n",
       "    <tr>\n",
       "      <td>46</td>\n",
       "      <td>2011-01-01</td>\n",
       "      <td>23:00:00</td>\n",
       "      <td>3.0</td>\n",
       "      <td>17.0</td>\n",
       "      <td>10.0</td>\n",
       "      <td>13.2</td>\n",
       "      <td>3.1</td>\n",
       "      <td>3.0</td>\n",
       "      <td>2011-01-01 23:00:00</td>\n",
       "      <td>13.5</td>\n",
       "      <td>2011</td>\n",
       "      <td>1</td>\n",
       "      <td>1</td>\n",
       "      <td>winter</td>\n",
       "      <td>saturday</td>\n",
       "    </tr>\n",
       "  </tbody>\n",
       "</table>\n",
       "</div>"
      ],
      "text/plain": [
       "          date      time  nitric_oxide  PM10  PM2.5  wind_direction  wind_spd  \\\n",
       "23  2010-12-31  24:00:00           9.0  42.0   38.0           331.4       1.7   \n",
       "24  2011-01-01  01:00:00           4.0  40.0   39.0           266.7       1.1   \n",
       "25  2011-01-01  02:00:00           6.0  36.0   30.0           271.9       1.2   \n",
       "26  2011-01-01  03:00:00           1.0  31.0   31.0           276.3       1.5   \n",
       "27  2011-01-01  04:00:00           1.0  31.0   29.0           278.7       2.1   \n",
       "28  2011-01-01  05:00:00           1.0  29.0   25.0           289.6       2.7   \n",
       "29  2011-01-01  06:00:00           1.0  25.0   23.0           303.6       2.8   \n",
       "30  2011-01-01  07:00:00           1.0  25.0   24.0           316.7       2.8   \n",
       "31  2011-01-01  08:00:00           1.0  28.0   22.0           320.8       2.7   \n",
       "32  2011-01-01  09:00:00           8.0  24.0   23.0           315.0       2.6   \n",
       "33  2011-01-01  10:00:00           9.0  24.0   20.0           316.7       2.6   \n",
       "34  2011-01-01  11:00:00          16.0  23.0   22.0           319.2       2.6   \n",
       "35  2011-01-01  12:00:00           5.0  19.0   17.0           320.3       2.7   \n",
       "36  2011-01-01  13:00:00           6.0  20.0   19.0           332.6       2.6   \n",
       "37  2011-01-01  14:00:00           4.0  18.0   16.0           348.1       2.7   \n",
       "38  2011-01-01  15:00:00           9.0  16.0   13.0           181.7       2.8   \n",
       "39  2011-01-01  16:00:00           8.0  12.0   11.0            15.9       2.9   \n",
       "40  2011-01-01  17:00:00           4.0  12.0    9.0            26.9       3.0   \n",
       "41  2011-01-01  18:00:00           5.0  13.0    8.0            30.6       3.0   \n",
       "42  2011-01-01  19:00:00           4.0  18.0   10.0            33.7       3.1   \n",
       "43  2011-01-01  20:00:00           4.0  17.0   10.0            32.6       3.1   \n",
       "44  2011-01-01  21:00:00           3.0  17.0    9.0            26.4       3.2   \n",
       "45  2011-01-01  22:00:00           3.0  15.0   11.0            20.2       3.2   \n",
       "46  2011-01-01  23:00:00           3.0  17.0   10.0            13.2       3.1   \n",
       "\n",
       "    temp           date_time  average_PM  year  month  day  season day_of_week  \n",
       "23   9.0 2011-01-01 00:00:00        40.0  2011      1    1  winter    saturday  \n",
       "24   4.0 2011-01-01 01:00:00        39.5  2011      1    1  winter    saturday  \n",
       "25   6.0 2011-01-01 02:00:00        33.0  2011      1    1  winter    saturday  \n",
       "26   1.0 2011-01-01 03:00:00        31.0  2011      1    1  winter    saturday  \n",
       "27   1.0 2011-01-01 04:00:00        30.0  2011      1    1  winter    saturday  \n",
       "28   1.0 2011-01-01 05:00:00        27.0  2011      1    1  winter    saturday  \n",
       "29   1.0 2011-01-01 06:00:00        24.0  2011      1    1  winter    saturday  \n",
       "30   1.0 2011-01-01 07:00:00        24.5  2011      1    1  winter    saturday  \n",
       "31   1.0 2011-01-01 08:00:00        25.0  2011      1    1  winter    saturday  \n",
       "32   8.0 2011-01-01 09:00:00        23.5  2011      1    1  winter    saturday  \n",
       "33   9.0 2011-01-01 10:00:00        22.0  2011      1    1  winter    saturday  \n",
       "34  16.0 2011-01-01 11:00:00        22.5  2011      1    1  winter    saturday  \n",
       "35   5.0 2011-01-01 12:00:00        18.0  2011      1    1  winter    saturday  \n",
       "36   6.0 2011-01-01 13:00:00        19.5  2011      1    1  winter    saturday  \n",
       "37   4.0 2011-01-01 14:00:00        17.0  2011      1    1  winter    saturday  \n",
       "38   9.0 2011-01-01 15:00:00        14.5  2011      1    1  winter    saturday  \n",
       "39   8.0 2011-01-01 16:00:00        11.5  2011      1    1  winter    saturday  \n",
       "40   4.0 2011-01-01 17:00:00        10.5  2011      1    1  winter    saturday  \n",
       "41   5.0 2011-01-01 18:00:00        10.5  2011      1    1  winter    saturday  \n",
       "42   4.0 2011-01-01 19:00:00        14.0  2011      1    1  winter    saturday  \n",
       "43   4.0 2011-01-01 20:00:00        13.5  2011      1    1  winter    saturday  \n",
       "44   3.0 2011-01-01 21:00:00        13.0  2011      1    1  winter    saturday  \n",
       "45   3.0 2011-01-01 22:00:00        13.0  2011      1    1  winter    saturday  \n",
       "46   3.0 2011-01-01 23:00:00        13.5  2011      1    1  winter    saturday  "
      ]
     },
     "execution_count": 73,
     "metadata": {},
     "output_type": "execute_result"
    }
   ],
   "source": [
    "df_1.head(24)"
   ]
  },
  {
   "cell_type": "code",
   "execution_count": 74,
   "metadata": {},
   "outputs": [],
   "source": [
    "df.to_csv('data1.csv',index=False)\n",
    "df_1.to_csv('data2.csv',index=False)"
   ]
  },
  {
   "cell_type": "markdown",
   "metadata": {},
   "source": [
    "#### Data Merging"
   ]
  },
  {
   "cell_type": "code",
   "execution_count": 5,
   "metadata": {},
   "outputs": [],
   "source": [
    "#import the datasets.\n",
    "#data1: 2015 - 2020, data2: 2011 - 2015 \n",
    "data1 = pd.read_csv('data1.csv')\n",
    "data2 = pd.read_csv('data2.csv')\n",
    "climate = pd.read_csv('climate.csv')"
   ]
  },
  {
   "cell_type": "code",
   "execution_count": 6,
   "metadata": {},
   "outputs": [
    {
     "data": {
      "text/plain": [
       "((43801, 15), (38005, 15))"
      ]
     },
     "execution_count": 6,
     "metadata": {},
     "output_type": "execute_result"
    }
   ],
   "source": [
    "data2.shape,data1.shape"
   ]
  },
  {
   "cell_type": "code",
   "execution_count": 7,
   "metadata": {},
   "outputs": [],
   "source": [
    "data12 = pd.concat([data2,data1])\n",
    "data12.drop(['wind_direction','wind_spd','temp'],axis=1,inplace=True)"
   ]
  },
  {
   "cell_type": "code",
   "execution_count": 8,
   "metadata": {},
   "outputs": [
    {
     "data": {
      "text/plain": [
       "((81816, 28), (81806, 12))"
      ]
     },
     "execution_count": 8,
     "metadata": {},
     "output_type": "execute_result"
    }
   ],
   "source": [
    "climate.shape,data12.shape"
   ]
  },
  {
   "cell_type": "code",
   "execution_count": 9,
   "metadata": {},
   "outputs": [
    {
     "data": {
      "text/html": [
       "<div>\n",
       "<style scoped>\n",
       "    .dataframe tbody tr th:only-of-type {\n",
       "        vertical-align: middle;\n",
       "    }\n",
       "\n",
       "    .dataframe tbody tr th {\n",
       "        vertical-align: top;\n",
       "    }\n",
       "\n",
       "    .dataframe thead th {\n",
       "        text-align: right;\n",
       "    }\n",
       "</style>\n",
       "<table border=\"1\" class=\"dataframe\">\n",
       "  <thead>\n",
       "    <tr style=\"text-align: right;\">\n",
       "      <th></th>\n",
       "      <th>latitude</th>\n",
       "      <th>longitude</th>\n",
       "      <th>date_utc</th>\n",
       "      <th>doy_utc</th>\n",
       "      <th>hour_utc</th>\n",
       "      <th>time_valid_lcl</th>\n",
       "      <th>offset_min</th>\n",
       "      <th>temp</th>\n",
       "      <th>wetBulb</th>\n",
       "      <th>dewPt</th>\n",
       "      <th>...</th>\n",
       "      <th>windSpd10m</th>\n",
       "      <th>windDir10m</th>\n",
       "      <th>windSpd80m</th>\n",
       "      <th>windDir80m</th>\n",
       "      <th>windSpd100m</th>\n",
       "      <th>windDir100m</th>\n",
       "      <th>precip</th>\n",
       "      <th>snowfall</th>\n",
       "      <th>cldCvr</th>\n",
       "      <th>radSolar</th>\n",
       "    </tr>\n",
       "  </thead>\n",
       "  <tbody>\n",
       "    <tr>\n",
       "      <td>0</td>\n",
       "      <td>51.521</td>\n",
       "      <td>-0.2135</td>\n",
       "      <td>2011-01-01 00:00:00</td>\n",
       "      <td>1</td>\n",
       "      <td>0 days 00:00:00.000000000</td>\n",
       "      <td>1/1/2011 0:00</td>\n",
       "      <td>0</td>\n",
       "      <td>4.111111</td>\n",
       "      <td>3.833333</td>\n",
       "      <td>3.500000</td>\n",
       "      <td>...</td>\n",
       "      <td>5.3</td>\n",
       "      <td>286.0</td>\n",
       "      <td>7.4</td>\n",
       "      <td>289.1</td>\n",
       "      <td>7.7</td>\n",
       "      <td>289.8</td>\n",
       "      <td>0.0</td>\n",
       "      <td>0.0</td>\n",
       "      <td>99</td>\n",
       "      <td>0.0</td>\n",
       "    </tr>\n",
       "    <tr>\n",
       "      <td>1</td>\n",
       "      <td>51.521</td>\n",
       "      <td>-0.2135</td>\n",
       "      <td>2011-01-01 01:00:00</td>\n",
       "      <td>1</td>\n",
       "      <td>0 days 01:00:00.000000000</td>\n",
       "      <td>1/1/2011 1:00</td>\n",
       "      <td>0</td>\n",
       "      <td>4.611111</td>\n",
       "      <td>4.277778</td>\n",
       "      <td>3.833333</td>\n",
       "      <td>...</td>\n",
       "      <td>6.0</td>\n",
       "      <td>292.9</td>\n",
       "      <td>9.1</td>\n",
       "      <td>296.0</td>\n",
       "      <td>9.5</td>\n",
       "      <td>296.6</td>\n",
       "      <td>0.0</td>\n",
       "      <td>0.0</td>\n",
       "      <td>99</td>\n",
       "      <td>0.0</td>\n",
       "    </tr>\n",
       "    <tr>\n",
       "      <td>2</td>\n",
       "      <td>51.521</td>\n",
       "      <td>-0.2135</td>\n",
       "      <td>2011-01-01 02:00:00</td>\n",
       "      <td>1</td>\n",
       "      <td>0 days 02:00:00.000000000</td>\n",
       "      <td>1/1/2011 2:00</td>\n",
       "      <td>0</td>\n",
       "      <td>4.500000</td>\n",
       "      <td>4.055556</td>\n",
       "      <td>3.611111</td>\n",
       "      <td>...</td>\n",
       "      <td>7.0</td>\n",
       "      <td>285.4</td>\n",
       "      <td>10.4</td>\n",
       "      <td>289.0</td>\n",
       "      <td>10.9</td>\n",
       "      <td>290.0</td>\n",
       "      <td>0.0</td>\n",
       "      <td>0.0</td>\n",
       "      <td>98</td>\n",
       "      <td>0.0</td>\n",
       "    </tr>\n",
       "    <tr>\n",
       "      <td>3</td>\n",
       "      <td>51.521</td>\n",
       "      <td>-0.2135</td>\n",
       "      <td>2011-01-01 03:00:00</td>\n",
       "      <td>1</td>\n",
       "      <td>0 days 03:00:00.000000000</td>\n",
       "      <td>1/1/2011 3:00</td>\n",
       "      <td>0</td>\n",
       "      <td>4.333333</td>\n",
       "      <td>3.888889</td>\n",
       "      <td>3.333333</td>\n",
       "      <td>...</td>\n",
       "      <td>8.2</td>\n",
       "      <td>283.8</td>\n",
       "      <td>12.0</td>\n",
       "      <td>287.2</td>\n",
       "      <td>12.5</td>\n",
       "      <td>287.8</td>\n",
       "      <td>0.0</td>\n",
       "      <td>0.0</td>\n",
       "      <td>97</td>\n",
       "      <td>0.0</td>\n",
       "    </tr>\n",
       "    <tr>\n",
       "      <td>4</td>\n",
       "      <td>51.521</td>\n",
       "      <td>-0.2135</td>\n",
       "      <td>2011-01-01 04:00:00</td>\n",
       "      <td>1</td>\n",
       "      <td>0 days 04:00:00.000000000</td>\n",
       "      <td>1/1/2011 4:00</td>\n",
       "      <td>0</td>\n",
       "      <td>4.277778</td>\n",
       "      <td>3.777778</td>\n",
       "      <td>3.166667</td>\n",
       "      <td>...</td>\n",
       "      <td>9.0</td>\n",
       "      <td>286.4</td>\n",
       "      <td>13.1</td>\n",
       "      <td>290.1</td>\n",
       "      <td>13.7</td>\n",
       "      <td>290.7</td>\n",
       "      <td>0.0</td>\n",
       "      <td>0.0</td>\n",
       "      <td>97</td>\n",
       "      <td>0.0</td>\n",
       "    </tr>\n",
       "  </tbody>\n",
       "</table>\n",
       "<p>5 rows × 28 columns</p>\n",
       "</div>"
      ],
      "text/plain": [
       "   latitude  longitude             date_utc  doy_utc  \\\n",
       "0    51.521    -0.2135  2011-01-01 00:00:00        1   \n",
       "1    51.521    -0.2135  2011-01-01 01:00:00        1   \n",
       "2    51.521    -0.2135  2011-01-01 02:00:00        1   \n",
       "3    51.521    -0.2135  2011-01-01 03:00:00        1   \n",
       "4    51.521    -0.2135  2011-01-01 04:00:00        1   \n",
       "\n",
       "                    hour_utc time_valid_lcl  offset_min      temp   wetBulb  \\\n",
       "0  0 days 00:00:00.000000000  1/1/2011 0:00           0  4.111111  3.833333   \n",
       "1  0 days 01:00:00.000000000  1/1/2011 1:00           0  4.611111  4.277778   \n",
       "2  0 days 02:00:00.000000000  1/1/2011 2:00           0  4.500000  4.055556   \n",
       "3  0 days 03:00:00.000000000  1/1/2011 3:00           0  4.333333  3.888889   \n",
       "4  0 days 04:00:00.000000000  1/1/2011 4:00           0  4.277778  3.777778   \n",
       "\n",
       "      dewPt  ...  windSpd10m  windDir10m  windSpd80m  windDir80m  windSpd100m  \\\n",
       "0  3.500000  ...         5.3       286.0         7.4       289.1          7.7   \n",
       "1  3.833333  ...         6.0       292.9         9.1       296.0          9.5   \n",
       "2  3.611111  ...         7.0       285.4        10.4       289.0         10.9   \n",
       "3  3.333333  ...         8.2       283.8        12.0       287.2         12.5   \n",
       "4  3.166667  ...         9.0       286.4        13.1       290.1         13.7   \n",
       "\n",
       "   windDir100m  precip  snowfall  cldCvr  radSolar  \n",
       "0        289.8     0.0       0.0      99       0.0  \n",
       "1        296.6     0.0       0.0      99       0.0  \n",
       "2        290.0     0.0       0.0      98       0.0  \n",
       "3        287.8     0.0       0.0      97       0.0  \n",
       "4        290.7     0.0       0.0      97       0.0  \n",
       "\n",
       "[5 rows x 28 columns]"
      ]
     },
     "execution_count": 9,
     "metadata": {},
     "output_type": "execute_result"
    }
   ],
   "source": [
    "climate.head()"
   ]
  },
  {
   "cell_type": "code",
   "execution_count": 10,
   "metadata": {},
   "outputs": [],
   "source": [
    "climate = climate.iloc[1:81807,:]"
   ]
  },
  {
   "cell_type": "code",
   "execution_count": 11,
   "metadata": {},
   "outputs": [
    {
     "data": {
      "text/plain": [
       "((81806, 28), (81806, 12))"
      ]
     },
     "execution_count": 11,
     "metadata": {},
     "output_type": "execute_result"
    }
   ],
   "source": [
    "climate.shape,data12.shape"
   ]
  },
  {
   "cell_type": "code",
   "execution_count": 12,
   "metadata": {},
   "outputs": [],
   "source": [
    "climate.rename({'date_utc':'date_time'},axis=1,inplace=True)"
   ]
  },
  {
   "cell_type": "code",
   "execution_count": 13,
   "metadata": {},
   "outputs": [],
   "source": [
    "#-----------------#\n",
    "climate.date_time = pd.DatetimeIndex(climate.date_time)\n",
    "data12.date_time = pd.DatetimeIndex(data12.date_time)"
   ]
  },
  {
   "cell_type": "code",
   "execution_count": 14,
   "metadata": {
    "scrolled": true
   },
   "outputs": [
    {
     "name": "stdout",
     "output_type": "stream",
     "text": [
      "<class 'pandas.core.frame.DataFrame'>\n",
      "Int64Index: 81806 entries, 0 to 38004\n",
      "Data columns (total 12 columns):\n",
      "date            81806 non-null object\n",
      "time            81806 non-null object\n",
      "nitric_oxide    81806 non-null float64\n",
      "PM10            81806 non-null float64\n",
      "PM2.5           81806 non-null float64\n",
      "date_time       81806 non-null datetime64[ns]\n",
      "average_PM      81806 non-null float64\n",
      "year            81806 non-null int64\n",
      "month           81806 non-null int64\n",
      "day             81806 non-null int64\n",
      "season          81806 non-null object\n",
      "day_of_week     81806 non-null object\n",
      "dtypes: datetime64[ns](1), float64(4), int64(3), object(4)\n",
      "memory usage: 8.1+ MB\n"
     ]
    }
   ],
   "source": [
    "data12.info()"
   ]
  },
  {
   "cell_type": "code",
   "execution_count": 15,
   "metadata": {},
   "outputs": [],
   "source": [
    "#pd.concat([climate,data12],axis=1,).index\n",
    "data = pd.concat([climate.set_index('date_time'),data12.set_index('date_time')], axis=1, join='inner').reset_index()"
   ]
  },
  {
   "cell_type": "code",
   "execution_count": 16,
   "metadata": {},
   "outputs": [],
   "source": [
    "def conv_dir(deg):\n",
    "    bound = 45/2\n",
    "    if deg <=360 and deg>360-bound:\n",
    "        return 'north'\n",
    "    elif deg<=360-bound and deg>360-(2*bound):\n",
    "        return 'north-west'\n",
    "    elif deg <=270 and deg>270-bound:\n",
    "        return 'west'\n",
    "    elif deg <=270-bound and deg>270-(2*bound):\n",
    "        return 'south-west'\n",
    "    elif deg  <=180 and deg>180-bound:\n",
    "        return 'south'\n",
    "    elif deg<=180-bound and deg>180-(2*bound):\n",
    "        return 'south-east'\n",
    "    elif deg <=90 and deg>90-bound:\n",
    "            return 'east'\n",
    "    elif deg <=90-bound and deg>90-(2*bound):\n",
    "            return 'north-east'\n",
    "    else:\n",
    "        return 'none'\n",
    "\n",
    "data['wind_dir'] = data.windDir10m.map(conv_dir)    "
   ]
  },
  {
   "cell_type": "code",
   "execution_count": 17,
   "metadata": {},
   "outputs": [
    {
     "data": {
      "text/plain": [
       "Index(['date_time', 'latitude', 'longitude', 'doy_utc', 'hour_utc',\n",
       "       'time_valid_lcl', 'offset_min', 'temp', 'wetBulb', 'dewPt', 'feelsLike',\n",
       "       'windchill', 'heatind', 'relHum', 'specHum', 'Pres', 'Pres_tndncy',\n",
       "       'mslPres', 'windSpd10m', 'windDir10m', 'windSpd80m', 'windDir80m',\n",
       "       'windSpd100m', 'windDir100m', 'precip', 'snowfall', 'cldCvr',\n",
       "       'radSolar', 'date', 'time', 'nitric_oxide', 'PM10', 'PM2.5',\n",
       "       'average_PM', 'year', 'month', 'day', 'season', 'day_of_week',\n",
       "       'wind_dir'],\n",
       "      dtype='object')"
      ]
     },
     "execution_count": 17,
     "metadata": {},
     "output_type": "execute_result"
    }
   ],
   "source": [
    "data.columns"
   ]
  },
  {
   "cell_type": "code",
   "execution_count": 19,
   "metadata": {},
   "outputs": [],
   "source": [
    "data.to_csv('data.csv',index=False)#final dataframe."
   ]
  }
 ],
 "metadata": {
  "kernelspec": {
   "display_name": "Python 3",
   "language": "python",
   "name": "python3"
  },
  "language_info": {
   "codemirror_mode": {
    "name": "ipython",
    "version": 3
   },
   "file_extension": ".py",
   "mimetype": "text/x-python",
   "name": "python",
   "nbconvert_exporter": "python",
   "pygments_lexer": "ipython3",
   "version": "3.7.4"
  }
 },
 "nbformat": 4,
 "nbformat_minor": 2
}
